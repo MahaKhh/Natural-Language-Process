{
 "cells": [
  {
   "cell_type": "code",
   "execution_count": 3,
   "id": "665db73c-249e-41fb-a65c-80dd7b3c00d1",
   "metadata": {},
   "outputs": [],
   "source": [
    "# Python program to show\n",
    "# how to convert text to speech\n",
    "import pyttsx3\n",
    "\n",
    "# Initialize the converter\n",
    "converter = pyttsx3.init()\n",
    "\n",
    "# Set properties before adding\n",
    "# Things to say\n",
    "\n",
    "# Sets speed percent\n",
    "# Can be more than 100\n",
    "converter.setProperty('rate', 150)\n",
    "# Set volume 0-1\n",
    "converter.setProperty('volume', 0.7)\n",
    "\n",
    "# Queue the entered text\n",
    "# There will be a pause between\n",
    "# each one like a pause in\n",
    "# a sentence\n",
    "converter.say(\"Hello hello\")\n",
    "converter.say(\"this is maha\")\n",
    "\n",
    "# Empties the say() queue\n",
    "# Program will not continue\n",
    "# until all speech is done talking\n",
    "converter.runAndWait()\n"
   ]
  },
  {
   "cell_type": "code",
   "execution_count": null,
   "id": "f633ba7d-b3ea-4233-8063-eb9d87c72941",
   "metadata": {},
   "outputs": [],
   "source": []
  }
 ],
 "metadata": {
  "kernelspec": {
   "display_name": "Python 3 (ipykernel)",
   "language": "python",
   "name": "python3"
  },
  "language_info": {
   "codemirror_mode": {
    "name": "ipython",
    "version": 3
   },
   "file_extension": ".py",
   "mimetype": "text/x-python",
   "name": "python",
   "nbconvert_exporter": "python",
   "pygments_lexer": "ipython3",
   "version": "3.9.7"
  }
 },
 "nbformat": 4,
 "nbformat_minor": 5
}
